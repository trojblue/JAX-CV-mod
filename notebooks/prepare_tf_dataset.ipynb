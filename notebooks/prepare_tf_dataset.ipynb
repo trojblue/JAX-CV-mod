{
 "cells": [
  {
   "cell_type": "markdown",
   "metadata": {},
   "source": [
    "把lepton storage里的danbooru dataset准备成tfrecord格式，然后用tf.data.Dataset读取:"
   ]
  },
  {
   "cell_type": "markdown",
   "metadata": {},
   "source": [
    "## get dataset paths:\n",
    "\n",
    "(copied from https://github.com/arot-devs/proclib/blob/feat-anime-aesthetic-cls/notebooks/split_and_retrieve_files.ipynb)"
   ]
  },
  {
   "cell_type": "code",
   "execution_count": 1,
   "metadata": {},
   "outputs": [
    {
     "name": "stdout",
     "output_type": "stream",
     "text": [
      "IMG_ROOT_DIR: ['/rmt/nyanko/danbooru2023-files', '/rmt/nyanko/danbooru-extend', '/rmt/nyanko/danbooru-extend-2'] \n",
      "CHUNKS_DIR: /lv0/test_aesthetics/proclib/data/danbooru_path_chunks\n"
     ]
    }
   ],
   "source": [
    "import os\n",
    "import random\n",
    "import pandas as pd\n",
    "\n",
    "import unibox as ub\n",
    "\n",
    "\n",
    "CONFIG = {\n",
    "    \"twitter\":{\n",
    "        \"img_root_dirs\": [\"/lv0/gallery-dl/twitter\"],\n",
    "        \"chunks_dir\": \"/lv0/test_aesthetics/proclib/data/twitter_path_chunks\"\n",
    "    },\n",
    "    \"danbooru\":{\n",
    "        \"img_root_dirs\": [\n",
    "            \"/rmt/nyanko/danbooru2023-files\", \n",
    "            \"/rmt/nyanko/danbooru-extend\",\n",
    "            \"/rmt/nyanko/danbooru-extend-2\"\n",
    "            ],\n",
    "        \"chunks_dir\": \"/lv0/test_aesthetics/proclib/data/danbooru_path_chunks\"\n",
    "    }\n",
    "}\n",
    "\n",
    "_curr_config = CONFIG[\"danbooru\"]\n",
    "\n",
    "IMG_ROOT_DIR = _curr_config[\"img_root_dirs\"]\n",
    "CHUNKS_DIR = _curr_config[\"chunks_dir\"]\n",
    "\n",
    "print(f\"IMG_ROOT_DIR: {IMG_ROOT_DIR} \\nCHUNKS_DIR: {CHUNKS_DIR}\")"
   ]
  },
  {
   "cell_type": "code",
   "execution_count": 3,
   "metadata": {},
   "outputs": [
    {
     "name": "stdout",
     "output_type": "stream",
     "text": [
      "Processing image directories: ['/rmt/nyanko/danbooru2023-files', '/rmt/nyanko/danbooru-extend', '/rmt/nyanko/danbooru-extend-2'] -> /lv0/test_aesthetics/proclib/data/danbooru_path_chunks (1 chunks)\n"
     ]
    },
    {
     "name": "stderr",
     "output_type": "stream",
     "text": []
    },
    {
     "name": "stdout",
     "output_type": "stream",
     "text": [
      "7538692 images found in /rmt/nyanko/danbooru2023-files | preview: ['/rmt/nyanko/danbooru2023-files/1029697.webp', '/rmt/nyanko/danbooru2023-files/1121188.webp', '/rmt/nyanko/danbooru2023-files/1334570.webp', '/rmt/nyanko/danbooru2023-files/1499385.webp', '/rmt/nyanko/danbooru2023-files/1520446.webp']\n"
     ]
    },
    {
     "name": "stderr",
     "output_type": "stream",
     "text": []
    },
    {
     "name": "stdout",
     "output_type": "stream",
     "text": [
      "591816 images found in /rmt/nyanko/danbooru-extend | preview: ['/rmt/nyanko/danbooru-extend/7545225.webp', '/rmt/nyanko/danbooru-extend/7570711.webp', '/rmt/nyanko/danbooru-extend/7597977.webp', '/rmt/nyanko/danbooru-extend/7608653.webp', '/rmt/nyanko/danbooru-extend/7609228.webp']\n"
     ]
    },
    {
     "name": "stderr",
     "output_type": "stream",
     "text": []
    },
    {
     "name": "stdout",
     "output_type": "stream",
     "text": [
      "4492 images found in /rmt/nyanko/danbooru-extend-2 | preview: ['/rmt/nyanko/danbooru-extend-2/image_8151508.jpg', '/rmt/nyanko/danbooru-extend-2/image_8151518.jpg', '/rmt/nyanko/danbooru-extend-2/image_8151521.jpg', '/rmt/nyanko/danbooru-extend-2/image_8151523.jpg', '/rmt/nyanko/danbooru-extend-2/image_8151570.jpg']\n",
      "(8135000, 2)\n",
      "Index(['local_path', 'filename'], dtype='object')\n"
     ]
    },
    {
     "data": {
      "text/html": [
       "<div>\n",
       "<style scoped>\n",
       "    .dataframe tbody tr th:only-of-type {\n",
       "        vertical-align: middle;\n",
       "    }\n",
       "\n",
       "    .dataframe tbody tr th {\n",
       "        vertical-align: top;\n",
       "    }\n",
       "\n",
       "    .dataframe thead th {\n",
       "        text-align: right;\n",
       "    }\n",
       "</style>\n",
       "<table border=\"1\" class=\"dataframe\">\n",
       "  <thead>\n",
       "    <tr style=\"text-align: right;\">\n",
       "      <th></th>\n",
       "      <th>local_path</th>\n",
       "      <th>filename</th>\n",
       "    </tr>\n",
       "  </thead>\n",
       "  <tbody>\n",
       "    <tr>\n",
       "      <th>0</th>\n",
       "      <td>/rmt/nyanko/danbooru2023-files/1029697.webp</td>\n",
       "      <td>1029697.webp</td>\n",
       "    </tr>\n",
       "    <tr>\n",
       "      <th>1</th>\n",
       "      <td>/rmt/nyanko/danbooru2023-files/1121188.webp</td>\n",
       "      <td>1121188.webp</td>\n",
       "    </tr>\n",
       "    <tr>\n",
       "      <th>2</th>\n",
       "      <td>/rmt/nyanko/danbooru2023-files/1334570.webp</td>\n",
       "      <td>1334570.webp</td>\n",
       "    </tr>\n",
       "  </tbody>\n",
       "</table>\n",
       "</div>"
      ],
      "text/plain": [
       "                                    local_path      filename\n",
       "0  /rmt/nyanko/danbooru2023-files/1029697.webp  1029697.webp\n",
       "1  /rmt/nyanko/danbooru2023-files/1121188.webp  1121188.webp\n",
       "2  /rmt/nyanko/danbooru2023-files/1334570.webp  1334570.webp"
      ]
     },
     "metadata": {},
     "output_type": "display_data"
    },
    {
     "name": "stdout",
     "output_type": "stream",
     "text": [
      "Combined DataFrame preview: None\n"
     ]
    },
    {
     "name": "stderr",
     "output_type": "stream",
     "text": [
      "2024-12-16 06:34:31,472 [INFO] UniLogger: UniSaver.saves: DataFrame saved successfully to \"/lv0/test_aesthetics/proclib/data/danbooru_path_chunks/0.parquet\"\n"
     ]
    },
    {
     "name": "stdout",
     "output_type": "stream",
     "text": [
      "Chunking configuration saved to /lv0/test_aesthetics/proclib/data/danbooru_path_chunks/CHUNKING_INFO.txt\n"
     ]
    }
   ],
   "source": [
    "from proclib.utils import list_image_dirs_to_chunks\n",
    "\n",
    "danbooru_chunk = list_image_dirs_to_chunks(IMG_ROOT_DIR, CHUNKS_DIR, num_chunks=1)"
   ]
  },
  {
   "cell_type": "code",
   "execution_count": 4,
   "metadata": {},
   "outputs": [],
   "source": [
    "!mv /lv0/test_aesthetics/proclib/data/danbooru_path_chunks/0.parquet ./"
   ]
  },
  {
   "cell_type": "code",
   "execution_count": 6,
   "metadata": {},
   "outputs": [],
   "source": [
    "!mv 0.parquet danbooru_paths.parquet"
   ]
  },
  {
   "cell_type": "markdown",
   "metadata": {},
   "source": [
    "convert dataset:"
   ]
  },
  {
   "cell_type": "code",
   "execution_count": 9,
   "metadata": {},
   "outputs": [
    {
     "name": "stderr",
     "output_type": "stream",
     "text": [
      "2024-12-16 06:41:52,019 [INFO] UniLogger: UniLoader.loads: .parquet LOADED from \"danbooru_paths.parquet\" in 6.23s\n"
     ]
    },
    {
     "name": "stdout",
     "output_type": "stream",
     "text": [
      "(8135000, 3)\n",
      "Index(['filename', 'path', 'image_id'], dtype='object')\n"
     ]
    },
    {
     "data": {
      "text/html": [
       "<div>\n",
       "<style scoped>\n",
       "    .dataframe tbody tr th:only-of-type {\n",
       "        vertical-align: middle;\n",
       "    }\n",
       "\n",
       "    .dataframe tbody tr th {\n",
       "        vertical-align: top;\n",
       "    }\n",
       "\n",
       "    .dataframe thead th {\n",
       "        text-align: right;\n",
       "    }\n",
       "</style>\n",
       "<table border=\"1\" class=\"dataframe\">\n",
       "  <thead>\n",
       "    <tr style=\"text-align: right;\">\n",
       "      <th></th>\n",
       "      <th>filename</th>\n",
       "      <th>path</th>\n",
       "      <th>image_id</th>\n",
       "    </tr>\n",
       "  </thead>\n",
       "  <tbody>\n",
       "    <tr>\n",
       "      <th>0</th>\n",
       "      <td>1029697.webp</td>\n",
       "      <td>/rmt/nyanko/danbooru2023-files/1029697.webp</td>\n",
       "      <td>1029697</td>\n",
       "    </tr>\n",
       "    <tr>\n",
       "      <th>1</th>\n",
       "      <td>1121188.webp</td>\n",
       "      <td>/rmt/nyanko/danbooru2023-files/1121188.webp</td>\n",
       "      <td>1121188</td>\n",
       "    </tr>\n",
       "    <tr>\n",
       "      <th>2</th>\n",
       "      <td>1334570.webp</td>\n",
       "      <td>/rmt/nyanko/danbooru2023-files/1334570.webp</td>\n",
       "      <td>1334570</td>\n",
       "    </tr>\n",
       "  </tbody>\n",
       "</table>\n",
       "</div>"
      ],
      "text/plain": [
       "       filename                                         path  image_id\n",
       "0  1029697.webp  /rmt/nyanko/danbooru2023-files/1029697.webp   1029697\n",
       "1  1121188.webp  /rmt/nyanko/danbooru2023-files/1121188.webp   1121188\n",
       "2  1334570.webp  /rmt/nyanko/danbooru2023-files/1334570.webp   1334570"
      ]
     },
     "metadata": {},
     "output_type": "display_data"
    }
   ],
   "source": [
    "import os\n",
    "\n",
    "df = ub.loads(\"danbooru_paths.parquet\")\n",
    "df[\"path\"] = df[\"local_path\"]\n",
    "df = df.drop(columns=[\"local_path\"])\n",
    "df[\"image_id\"] = df[\"path\"].apply(lambda x: os.path.basename(x).split(\".\")[0])\n",
    "\n",
    "# remove \"image_\" prefix if exists\n",
    "df[\"image_id\"] = df[\"image_id\"].apply(lambda x: x.split(\"_\")[-1] if x.startswith(\"image_\") else x)\n",
    "\n",
    "df[\"image_id\"] = df[\"image_id\"].astype(int)\n",
    "\n",
    "ub.peeks(df)"
   ]
  },
  {
   "cell_type": "code",
   "execution_count": 13,
   "metadata": {},
   "outputs": [
    {
     "name": "stdout",
     "output_type": "stream",
     "text": [
      "Total images: 8135000\n",
      "unique danbooru image ids: 7938607\n",
      "first 5 duplicating ids: image_id\n",
      "7226424    2\n",
      "7320412    2\n",
      "7229500    2\n",
      "7203284    2\n",
      "7243353    2\n",
      "Name: count, dtype: int64\n"
     ]
    }
   ],
   "source": [
    "print(f\"Total images: {len(df)}\")\n",
    "print(f\"unique danbooru image ids: {len(df['image_id'].unique())}\")\n",
    "\n",
    "print(f\"first 5 duplicating ids: {df['image_id'].value_counts().head()}\")"
   ]
  },
  {
   "cell_type": "code",
   "execution_count": 15,
   "metadata": {},
   "outputs": [
    {
     "data": {
      "text/html": [
       "<div>\n",
       "<style scoped>\n",
       "    .dataframe tbody tr th:only-of-type {\n",
       "        vertical-align: middle;\n",
       "    }\n",
       "\n",
       "    .dataframe tbody tr th {\n",
       "        vertical-align: top;\n",
       "    }\n",
       "\n",
       "    .dataframe thead th {\n",
       "        text-align: right;\n",
       "    }\n",
       "</style>\n",
       "<table border=\"1\" class=\"dataframe\">\n",
       "  <thead>\n",
       "    <tr style=\"text-align: right;\">\n",
       "      <th></th>\n",
       "      <th>filename</th>\n",
       "      <th>path</th>\n",
       "      <th>image_id</th>\n",
       "    </tr>\n",
       "  </thead>\n",
       "  <tbody>\n",
       "    <tr>\n",
       "      <th>5804953</th>\n",
       "      <td>7320412.webp</td>\n",
       "      <td>/rmt/nyanko/danbooru2023-files/7320412.webp</td>\n",
       "      <td>7320412</td>\n",
       "    </tr>\n",
       "    <tr>\n",
       "      <th>7396028</th>\n",
       "      <td>7320412.webp</td>\n",
       "      <td>/rmt/nyanko/danbooru2023-files/12/7320412.webp</td>\n",
       "      <td>7320412</td>\n",
       "    </tr>\n",
       "  </tbody>\n",
       "</table>\n",
       "</div>"
      ],
      "text/plain": [
       "             filename                                            path  \\\n",
       "5804953  7320412.webp     /rmt/nyanko/danbooru2023-files/7320412.webp   \n",
       "7396028  7320412.webp  /rmt/nyanko/danbooru2023-files/12/7320412.webp   \n",
       "\n",
       "         image_id  \n",
       "5804953   7320412  \n",
       "7396028   7320412  "
      ]
     },
     "execution_count": 15,
     "metadata": {},
     "output_type": "execute_result"
    }
   ],
   "source": [
    "df[df[\"image_id\"] == 7320412]"
   ]
  },
  {
   "cell_type": "code",
   "execution_count": 16,
   "metadata": {},
   "outputs": [
    {
     "name": "stdout",
     "output_type": "stream",
     "text": [
      "Total images: 7938607\n"
     ]
    },
    {
     "name": "stderr",
     "output_type": "stream",
     "text": [
      "2024-12-16 06:45:22,580 [INFO] UniLogger: UniSaver.saves: DataFrame saved successfully to \"danbooru_paths_unique.parquet\"\n"
     ]
    }
   ],
   "source": [
    "# keep unique only\n",
    "df = df.drop_duplicates(subset=[\"image_id\"])\n",
    "print(f\"Total images: {len(df)}\")\n",
    "ub.saves(df, \"danbooru_paths_unique.parquet\")"
   ]
  },
  {
   "cell_type": "markdown",
   "metadata": {},
   "source": [
    "## Adding Tag Info:\n",
    "\n",
    "using data from aws version of danbooru to get info\n",
    "\n",
    "\n",
    "TODO:\n",
    "- dump latest danbooru meta\n",
    "- upload to lepton\n",
    "- extract tags\n",
    "- concatenate to this df"
   ]
  },
  {
   "cell_type": "code",
   "execution_count": null,
   "metadata": {},
   "outputs": [
    {
     "name": "stderr",
     "output_type": "stream",
     "text": [
      "2024-12-16 06:48:49,611 [INFO] UniLogger: UniLoader.loads: .parquet LOADED from \"/rmt/nyanko/danbooru_rev6_8_v7.parquet\" in 17.67s\n"
     ]
    },
    {
     "name": "stdout",
     "output_type": "stream",
     "text": [
      "(3840716, 25)\n",
      "Index(['is_yandere', 'created_at', 'tag_string', 'build_tags',\n",
      "       'tag_string_character', 'tag_string_artist', 'tag_string_general',\n",
      "       'file_path', 'clip_aesthetic', 'clip_aesthetic_2_5', 'phash',\n",
      "       'laplacian_variance', 'width', 'height', 'artist_first', 'image_height',\n",
      "       'image_width', 'is_special', 'is_lq_v2', 'is_lq', 'yandere_tags',\n",
      "       'is_hq', 'is_tachie', 'is_lowres', 'is_hq_scenery'],\n",
      "      dtype='object')\n"
     ]
    },
    {
     "data": {
      "text/html": [
       "<div>\n",
       "<style scoped>\n",
       "    .dataframe tbody tr th:only-of-type {\n",
       "        vertical-align: middle;\n",
       "    }\n",
       "\n",
       "    .dataframe tbody tr th {\n",
       "        vertical-align: top;\n",
       "    }\n",
       "\n",
       "    .dataframe thead th {\n",
       "        text-align: right;\n",
       "    }\n",
       "</style>\n",
       "<table border=\"1\" class=\"dataframe\">\n",
       "  <thead>\n",
       "    <tr style=\"text-align: right;\">\n",
       "      <th></th>\n",
       "      <th>is_yandere</th>\n",
       "      <th>created_at</th>\n",
       "      <th>tag_string</th>\n",
       "      <th>build_tags</th>\n",
       "      <th>tag_string_character</th>\n",
       "      <th>tag_string_artist</th>\n",
       "      <th>tag_string_general</th>\n",
       "      <th>file_path</th>\n",
       "      <th>clip_aesthetic</th>\n",
       "      <th>clip_aesthetic_2_5</th>\n",
       "      <th>...</th>\n",
       "      <th>image_height</th>\n",
       "      <th>image_width</th>\n",
       "      <th>is_special</th>\n",
       "      <th>is_lq_v2</th>\n",
       "      <th>is_lq</th>\n",
       "      <th>yandere_tags</th>\n",
       "      <th>is_hq</th>\n",
       "      <th>is_tachie</th>\n",
       "      <th>is_lowres</th>\n",
       "      <th>is_hq_scenery</th>\n",
       "    </tr>\n",
       "  </thead>\n",
       "  <tbody>\n",
       "    <tr>\n",
       "      <th>1</th>\n",
       "      <td>False</td>\n",
       "      <td>2024-05-06T08:48:13.547-04:00</td>\n",
       "      <td>[1girl, :p, alternate_costume, apron, blush, e...</td>\n",
       "      <td>[1girl, unconventional_maid, solo, maid_headdr...</td>\n",
       "      <td>[nanakusa_nichika]</td>\n",
       "      <td>[morino_yu2]</td>\n",
       "      <td>[1girl, :p, alternate_costume, apron, blush, e...</td>\n",
       "      <td>/storage/training/nyanko/danbooru-extend/75455...</td>\n",
       "      <td>6.164867</td>\n",
       "      <td>5.947681</td>\n",
       "      <td>...</td>\n",
       "      <td>1753.0</td>\n",
       "      <td>1494.0</td>\n",
       "      <td>False</td>\n",
       "      <td>False</td>\n",
       "      <td>False</td>\n",
       "      <td>None</td>\n",
       "      <td>None</td>\n",
       "      <td>None</td>\n",
       "      <td>None</td>\n",
       "      <td>None</td>\n",
       "    </tr>\n",
       "    <tr>\n",
       "      <th>5</th>\n",
       "      <td>False</td>\n",
       "      <td>2024-05-14T00:36:56.332-04:00</td>\n",
       "      <td>[1girl, absurdres, blue_eyes, blue_hair, blue_...</td>\n",
       "      <td>[1girl, blue_eyes, long_hair, solo, from_side,...</td>\n",
       "      <td>[]</td>\n",
       "      <td>[di_le_to]</td>\n",
       "      <td>[1girl, blue_eyes, blue_hair, blue_ribbon, blu...</td>\n",
       "      <td>/storage/training/nyanko/danbooru-extend/75785...</td>\n",
       "      <td>5.700201</td>\n",
       "      <td>6.151587</td>\n",
       "      <td>...</td>\n",
       "      <td>2608.0</td>\n",
       "      <td>1608.0</td>\n",
       "      <td>False</td>\n",
       "      <td>False</td>\n",
       "      <td>False</td>\n",
       "      <td>None</td>\n",
       "      <td>None</td>\n",
       "      <td>None</td>\n",
       "      <td>None</td>\n",
       "      <td>None</td>\n",
       "    </tr>\n",
       "    <tr>\n",
       "      <th>6</th>\n",
       "      <td>False</td>\n",
       "      <td>2024-05-15T05:41:13.400-04:00</td>\n",
       "      <td>[1girl, artist_name, ass, barefoot, blue_archi...</td>\n",
       "      <td>[1girl, panties, underwear, white_panties, hal...</td>\n",
       "      <td>[yuzu_(blue_archive)]</td>\n",
       "      <td>[myeolchi]</td>\n",
       "      <td>[1girl, artist_name, ass, barefoot, blush, bow...</td>\n",
       "      <td>/storage/training/nyanko/danbooru-extend/75837...</td>\n",
       "      <td>5.368204</td>\n",
       "      <td>5.636465</td>\n",
       "      <td>...</td>\n",
       "      <td>1128.0</td>\n",
       "      <td>850.0</td>\n",
       "      <td>False</td>\n",
       "      <td>False</td>\n",
       "      <td>False</td>\n",
       "      <td>None</td>\n",
       "      <td>None</td>\n",
       "      <td>None</td>\n",
       "      <td>None</td>\n",
       "      <td>None</td>\n",
       "    </tr>\n",
       "  </tbody>\n",
       "</table>\n",
       "<p>3 rows × 25 columns</p>\n",
       "</div>"
      ],
      "text/plain": [
       "  is_yandere                     created_at  \\\n",
       "1      False  2024-05-06T08:48:13.547-04:00   \n",
       "5      False  2024-05-14T00:36:56.332-04:00   \n",
       "6      False  2024-05-15T05:41:13.400-04:00   \n",
       "\n",
       "                                          tag_string  \\\n",
       "1  [1girl, :p, alternate_costume, apron, blush, e...   \n",
       "5  [1girl, absurdres, blue_eyes, blue_hair, blue_...   \n",
       "6  [1girl, artist_name, ass, barefoot, blue_archi...   \n",
       "\n",
       "                                          build_tags   tag_string_character  \\\n",
       "1  [1girl, unconventional_maid, solo, maid_headdr...     [nanakusa_nichika]   \n",
       "5  [1girl, blue_eyes, long_hair, solo, from_side,...                     []   \n",
       "6  [1girl, panties, underwear, white_panties, hal...  [yuzu_(blue_archive)]   \n",
       "\n",
       "  tag_string_artist                                 tag_string_general  \\\n",
       "1      [morino_yu2]  [1girl, :p, alternate_costume, apron, blush, e...   \n",
       "5        [di_le_to]  [1girl, blue_eyes, blue_hair, blue_ribbon, blu...   \n",
       "6        [myeolchi]  [1girl, artist_name, ass, barefoot, blush, bow...   \n",
       "\n",
       "                                           file_path  clip_aesthetic  \\\n",
       "1  /storage/training/nyanko/danbooru-extend/75455...        6.164867   \n",
       "5  /storage/training/nyanko/danbooru-extend/75785...        5.700201   \n",
       "6  /storage/training/nyanko/danbooru-extend/75837...        5.368204   \n",
       "\n",
       "   clip_aesthetic_2_5  ... image_height  image_width  is_special  is_lq_v2  \\\n",
       "1            5.947681  ...       1753.0       1494.0       False     False   \n",
       "5            6.151587  ...       2608.0       1608.0       False     False   \n",
       "6            5.636465  ...       1128.0        850.0       False     False   \n",
       "\n",
       "   is_lq  yandere_tags  is_hq  is_tachie is_lowres is_hq_scenery  \n",
       "1  False          None   None       None      None          None  \n",
       "5  False          None   None       None      None          None  \n",
       "6  False          None   None       None      None          None  \n",
       "\n",
       "[3 rows x 25 columns]"
      ]
     },
     "metadata": {},
     "output_type": "display_data"
    }
   ],
   "source": [
    "# TODO: get metadata\n",
    "\n"
   ]
  }
 ],
 "metadata": {
  "kernelspec": {
   "display_name": "base",
   "language": "python",
   "name": "python3"
  },
  "language_info": {
   "codemirror_mode": {
    "name": "ipython",
    "version": 3
   },
   "file_extension": ".py",
   "mimetype": "text/x-python",
   "name": "python",
   "nbconvert_exporter": "python",
   "pygments_lexer": "ipython3",
   "version": "3.10.13"
  }
 },
 "nbformat": 4,
 "nbformat_minor": 2
}
